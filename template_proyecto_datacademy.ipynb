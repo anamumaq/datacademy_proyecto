{
 "cells": [
  {
   "cell_type": "markdown",
   "source": "# Análisis de los 25 retailers más grandes de Estados Unidos",
   "metadata": {
    "cell_id": "1df879a0-53cd-4031-a50b-2c2fe17304a4",
    "tags": [],
    "is_collapsed": false,
    "deepnote_cell_type": "text-cell-h1",
    "deepnote_cell_height": 134
   }
  },
  {
   "cell_type": "code",
   "metadata": {
    "tags": [],
    "cell_id": "3347a937-91c3-4305-b06c-213bb2f3bcaf",
    "deepnote_to_be_reexecuted": false,
    "source_hash": "226eac3",
    "execution_start": 1647109082963,
    "execution_millis": 3122,
    "deepnote_cell_type": "code",
    "deepnote_cell_height": 117
   },
   "source": "import pandas as pd\nimport numpy as np\nimport seaborn as sns",
   "outputs": [],
   "execution_count": null
  },
  {
   "cell_type": "code",
   "metadata": {
    "cell_id": "081fdaf2-888a-4a54-9495-467464cfc400",
    "tags": [],
    "deepnote_to_be_reexecuted": false,
    "source_hash": "c03d61ca",
    "execution_start": 1647111986431,
    "execution_millis": 8,
    "deepnote_cell_type": "code",
    "deepnote_cell_height": 81
   },
   "source": "df = pd.read_csv('/work/largest_us_retailers_9b00dc73-a938-46cd-af17-fcb2bd67301f.csv')",
   "outputs": [],
   "execution_count": null
  },
  {
   "cell_type": "code",
   "metadata": {
    "cell_id": "42a9c289-9f4d-4c45-8ce1-38f19a869809",
    "tags": [],
    "deepnote_to_be_reexecuted": false,
    "source_hash": "f6110b39",
    "execution_start": 1647116961170,
    "execution_millis": 45,
    "deepnote_cell_type": "code",
    "deepnote_cell_height": 409.65625
   },
   "source": "df.sample(5)",
   "outputs": [
    {
     "output_type": "execute_result",
     "execution_count": 62,
     "data": {
      "application/vnd.deepnote.dataframe.v3+json": {
       "column_count": 7,
       "row_count": 5,
       "columns": [
        {
         "name": "Company",
         "dtype": "object",
         "stats": {
          "unique_count": 5,
          "nan_count": 0,
          "categories": [
           {
            "name": "Walgreen Boots",
            "count": 1
           },
           {
            "name": "Aldi",
            "count": 1
           },
           {
            "name": "3 others",
            "count": 3
           }
          ]
         }
        },
        {
         "name": "Sales",
         "dtype": "int64",
         "stats": {
          "unique_count": 5,
          "nan_count": 0,
          "min": "21464",
          "max": "658119",
          "histogram": [
           {
            "bin_start": 21464,
            "bin_end": 85129.5,
            "count": 4
           },
           {
            "bin_start": 85129.5,
            "bin_end": 148795,
            "count": 0
           },
           {
            "bin_start": 148795,
            "bin_end": 212460.5,
            "count": 0
           },
           {
            "bin_start": 212460.5,
            "bin_end": 276126,
            "count": 0
           },
           {
            "bin_start": 276126,
            "bin_end": 339791.5,
            "count": 0
           },
           {
            "bin_start": 339791.5,
            "bin_end": 403457,
            "count": 0
           },
           {
            "bin_start": 403457,
            "bin_end": 467122.5,
            "count": 0
           },
           {
            "bin_start": 467122.5,
            "bin_end": 530788,
            "count": 0
           },
           {
            "bin_start": 530788,
            "bin_end": 594453.5,
            "count": 0
           },
           {
            "bin_start": 594453.5,
            "bin_end": 658119,
            "count": 1
           }
          ]
         }
        },
        {
         "name": "Stores",
         "dtype": "float64",
         "stats": {
          "unique_count": 4,
          "nan_count": 1,
          "min": "2021.0",
          "max": "14250.0",
          "histogram": [
           {
            "bin_start": 2021,
            "bin_end": 3243.9,
            "count": 1
           },
           {
            "bin_start": 3243.9,
            "bin_end": 4466.8,
            "count": 0
           },
           {
            "bin_start": 4466.8,
            "bin_end": 5689.700000000001,
            "count": 1
           },
           {
            "bin_start": 5689.700000000001,
            "bin_end": 6912.6,
            "count": 0
           },
           {
            "bin_start": 6912.6,
            "bin_end": 8135.5,
            "count": 1
           },
           {
            "bin_start": 8135.5,
            "bin_end": 9358.400000000001,
            "count": 0
           },
           {
            "bin_start": 9358.400000000001,
            "bin_end": 10581.300000000001,
            "count": 0
           },
           {
            "bin_start": 10581.300000000001,
            "bin_end": 11804.2,
            "count": 0
           },
           {
            "bin_start": 11804.2,
            "bin_end": 13027.1,
            "count": 0
           },
           {
            "bin_start": 13027.1,
            "bin_end": 14250,
            "count": 1
           }
          ]
         }
        },
        {
         "name": "Sales/Avg. Store",
         "dtype": "float64",
         "stats": {
          "unique_count": 4,
          "nan_count": 1,
          "min": "1.56391854",
          "max": "65.64972497",
          "histogram": [
           {
            "bin_start": 1.56391854,
            "bin_end": 7.972499182999998,
            "count": 1
           },
           {
            "bin_start": 7.972499182999998,
            "bin_end": 14.381079825999997,
            "count": 2
           },
           {
            "bin_start": 14.381079825999997,
            "bin_end": 20.789660468999994,
            "count": 0
           },
           {
            "bin_start": 20.789660468999994,
            "bin_end": 27.198241111999995,
            "count": 0
           },
           {
            "bin_start": 27.198241111999995,
            "bin_end": 33.606821755,
            "count": 0
           },
           {
            "bin_start": 33.606821755,
            "bin_end": 40.01540239799999,
            "count": 0
           },
           {
            "bin_start": 40.01540239799999,
            "bin_end": 46.42398304099999,
            "count": 0
           },
           {
            "bin_start": 46.42398304099999,
            "bin_end": 52.83256368399999,
            "count": 0
           },
           {
            "bin_start": 52.83256368399999,
            "bin_end": 59.24114432699999,
            "count": 0
           },
           {
            "bin_start": 59.24114432699999,
            "bin_end": 65.64972497,
            "count": 1
           }
          ]
         }
        },
        {
         "name": "Store Count Growth",
         "dtype": "float64",
         "stats": {
          "unique_count": 4,
          "nan_count": 1,
          "min": "-0.01051069618",
          "max": "0.1122729774",
          "histogram": [
           {
            "bin_start": -0.01051069618,
            "bin_end": 0.0017676711780000003,
            "count": 1
           },
           {
            "bin_start": 0.0017676711780000003,
            "bin_end": 0.014046038536,
            "count": 1
           },
           {
            "bin_start": 0.014046038536,
            "bin_end": 0.026324405893999994,
            "count": 0
           },
           {
            "bin_start": 0.026324405893999994,
            "bin_end": 0.038602773252,
            "count": 0
           },
           {
            "bin_start": 0.038602773252,
            "bin_end": 0.05088114061,
            "count": 0
           },
           {
            "bin_start": 0.05088114061,
            "bin_end": 0.06315950796799999,
            "count": 0
           },
           {
            "bin_start": 0.06315950796799999,
            "bin_end": 0.07543787532599999,
            "count": 0
           },
           {
            "bin_start": 0.07543787532599999,
            "bin_end": 0.087716242684,
            "count": 1
           },
           {
            "bin_start": 0.087716242684,
            "bin_end": 0.099994610042,
            "count": 0
           },
           {
            "bin_start": 0.099994610042,
            "bin_end": 0.1122729774,
            "count": 1
           }
          ]
         }
        },
        {
         "name": "Category",
         "dtype": "object",
         "stats": {
          "unique_count": 5,
          "nan_count": 0,
          "categories": [
           {
            "name": "Drug Stores",
            "count": 1
           },
           {
            "name": "Grocery",
            "count": 1
           },
           {
            "name": "3 others",
            "count": 3
           }
          ]
         }
        },
        {
         "name": "venta_tienda",
         "dtype": "float64",
         "stats": {
          "unique_count": 4,
          "nan_count": 1,
          "min": "1.5",
          "max": "143.9",
          "histogram": [
           {
            "bin_start": 1.5,
            "bin_end": 15.74,
            "count": 3
           },
           {
            "bin_start": 15.74,
            "bin_end": 29.98,
            "count": 0
           },
           {
            "bin_start": 29.98,
            "bin_end": 44.22,
            "count": 0
           },
           {
            "bin_start": 44.22,
            "bin_end": 58.46,
            "count": 0
           },
           {
            "bin_start": 58.46,
            "bin_end": 72.7,
            "count": 0
           },
           {
            "bin_start": 72.7,
            "bin_end": 86.94,
            "count": 0
           },
           {
            "bin_start": 86.94,
            "bin_end": 101.18,
            "count": 0
           },
           {
            "bin_start": 101.18,
            "bin_end": 115.42,
            "count": 0
           },
           {
            "bin_start": 115.42,
            "bin_end": 129.66,
            "count": 0
           },
           {
            "bin_start": 129.66,
            "bin_end": 143.9,
            "count": 1
           }
          ]
         }
        },
        {
         "name": "_deepnote_index_column",
         "dtype": "int64"
        }
       ],
       "rows": [
        {
         "Company": "Walgreen Boots",
         "Sales": 78924,
         "Stores": 8002,
         "Sales/Avg. Store": 9.81092672,
         "Store Count Growth": -0.01051069618,
         "Category": "Drug Stores",
         "venta_tienda": 9.9,
         "_deepnote_index_column": 4
        },
        {
         "Company": "Aldi",
         "Sales": 24402,
         "Stores": 2021,
         "Sales/Avg. Store": 12.71599792,
         "Store Count Growth": 0.1122729774,
         "Category": "Grocery",
         "venta_tienda": 12.1,
         "_deepnote_index_column": 18
        },
        {
         "Company": "Walmart US",
         "Sales": 658119,
         "Stores": 4574,
         "Sales/Avg. Store": 65.64972497,
         "Store Count Growth": 0.01284322409,
         "Category": "Supercenters",
         "venta_tienda": 143.9,
         "_deepnote_index_column": 0
        },
        {
         "Company": "Dollar Tree",
         "Sales": 21464,
         "Stores": 14250,
         "Sales/Avg. Store": 1.56391854,
         "Store Count Growth": 0.07962724449,
         "Category": "Dollar Stores",
         "venta_tienda": 1.5,
         "_deepnote_index_column": 20
        },
        {
         "Company": "Apple incl. Online",
         "Sales": 37664,
         "Stores": "nan",
         "Sales/Avg. Store": "nan",
         "Store Count Growth": "nan",
         "Category": "Electronic/Mail Order",
         "venta_tienda": "nan",
         "_deepnote_index_column": 11
        }
       ]
      },
      "text/plain": "               Company   Sales   Stores  Sales/Avg. Store  Store Count Growth  \\\n4       Walgreen Boots   78924   8002.0          9.810927           -0.010511   \n18                Aldi   24402   2021.0         12.715998            0.112273   \n0           Walmart US  658119   4574.0         65.649725            0.012843   \n20         Dollar Tree   21464  14250.0          1.563919            0.079627   \n11  Apple incl. Online   37664      NaN               NaN                 NaN   \n\n                 Category  venta_tienda  \n4             Drug Stores           9.9  \n18                Grocery          12.1  \n0            Supercenters         143.9  \n20          Dollar Stores           1.5  \n11  Electronic/Mail Order           NaN  ",
      "text/html": "<div>\n<style scoped>\n    .dataframe tbody tr th:only-of-type {\n        vertical-align: middle;\n    }\n\n    .dataframe tbody tr th {\n        vertical-align: top;\n    }\n\n    .dataframe thead th {\n        text-align: right;\n    }\n</style>\n<table border=\"1\" class=\"dataframe\">\n  <thead>\n    <tr style=\"text-align: right;\">\n      <th></th>\n      <th>Company</th>\n      <th>Sales</th>\n      <th>Stores</th>\n      <th>Sales/Avg. Store</th>\n      <th>Store Count Growth</th>\n      <th>Category</th>\n      <th>venta_tienda</th>\n    </tr>\n  </thead>\n  <tbody>\n    <tr>\n      <th>4</th>\n      <td>Walgreen Boots</td>\n      <td>78924</td>\n      <td>8002.0</td>\n      <td>9.810927</td>\n      <td>-0.010511</td>\n      <td>Drug Stores</td>\n      <td>9.9</td>\n    </tr>\n    <tr>\n      <th>18</th>\n      <td>Aldi</td>\n      <td>24402</td>\n      <td>2021.0</td>\n      <td>12.715998</td>\n      <td>0.112273</td>\n      <td>Grocery</td>\n      <td>12.1</td>\n    </tr>\n    <tr>\n      <th>0</th>\n      <td>Walmart US</td>\n      <td>658119</td>\n      <td>4574.0</td>\n      <td>65.649725</td>\n      <td>0.012843</td>\n      <td>Supercenters</td>\n      <td>143.9</td>\n    </tr>\n    <tr>\n      <th>20</th>\n      <td>Dollar Tree</td>\n      <td>21464</td>\n      <td>14250.0</td>\n      <td>1.563919</td>\n      <td>0.079627</td>\n      <td>Dollar Stores</td>\n      <td>1.5</td>\n    </tr>\n    <tr>\n      <th>11</th>\n      <td>Apple incl. Online</td>\n      <td>37664</td>\n      <td>NaN</td>\n      <td>NaN</td>\n      <td>NaN</td>\n      <td>Electronic/Mail Order</td>\n      <td>NaN</td>\n    </tr>\n  </tbody>\n</table>\n</div>"
     },
     "metadata": {}
    }
   ],
   "execution_count": null
  },
  {
   "cell_type": "markdown",
   "source": "## 0. Limpiando la base\nAntes de contestar las preguntas planteadas, es necesario hacer una limpieza en la data a trabajar",
   "metadata": {
    "cell_id": "c574451e-cd85-4735-ac84-269c9b652094",
    "tags": [],
    "deepnote_cell_type": "markdown",
    "deepnote_cell_height": 108.390625
   }
  },
  {
   "cell_type": "code",
   "metadata": {
    "cell_id": "f67f96d7-1e71-4a79-8495-ced96ea7411d",
    "tags": [],
    "deepnote_to_be_reexecuted": false,
    "source_hash": "61782ac9",
    "execution_start": 1647113264303,
    "execution_millis": 2,
    "deepnote_cell_type": "code",
    "deepnote_cell_height": 270.5625,
    "deepnote_output_heights": [
     155.578125
    ]
   },
   "source": "# contando nulls\ndf.isnull().sum()",
   "outputs": [
    {
     "output_type": "execute_result",
     "execution_count": 56,
     "data": {
      "text/plain": "Company               0\nSales                 0\nStores                2\nSales/Avg. Store      2\nStore Count Growth    2\nCategory              0\nventa_tienda          2\ndtype: int64"
     },
     "metadata": {}
    }
   ],
   "execution_count": null
  },
  {
   "cell_type": "code",
   "metadata": {
    "cell_id": "4a881a45-f9d7-4e41-bcde-63ec704d8cb5",
    "tags": [],
    "deepnote_to_be_reexecuted": false,
    "source_hash": "2a6046f1",
    "execution_start": 1647111950914,
    "execution_millis": 7,
    "deepnote_cell_type": "code",
    "deepnote_cell_height": 205.59375
   },
   "source": "# Encontrando las tiendas con null\nprint(\"STORES NULL\", df[df['Stores'].isnull() == True]['Company'].values)\nprint(\"SALES/AVG STORES NULL\", df[df['Sales/Avg. Store'].isnull() == True]['Company'].values)\nprint(\"CATEGORY NULL\", df[df['Category'].isnull() == True]['Company'].values)",
   "outputs": [
    {
     "name": "stdout",
     "text": "STORES NULL ['Amazon' 'Apple incl. Online']\nSALES/AVG STORES NULL ['Amazon' 'Apple incl. Online']\nCATEGORY NULL ['Apple incl. Online']\n",
     "output_type": "stream"
    }
   ],
   "execution_count": null
  },
  {
   "cell_type": "markdown",
   "source": "* Por ahora puedo reemplazar el null en la categoria de Apple Online, para esto estoy asumiendo que la categoria es la misma que Amazon.\n* Al asumir la misma categoria para ambas empresas tiene sentido que no tengas nro de tiendas porque todas las operaciones se realizan online\n* Apple y Amazon serian las dos unicas empresas con estas caracteristicas",
   "metadata": {
    "cell_id": "bc0a03be-e0ff-4758-90b3-79f25551e459",
    "tags": [],
    "deepnote_cell_type": "markdown",
    "deepnote_cell_height": 164.96875
   }
  },
  {
   "cell_type": "code",
   "metadata": {
    "cell_id": "271b548c-8dbf-44be-8418-b0d265f2b350",
    "tags": [],
    "deepnote_to_be_reexecuted": false,
    "source_hash": "53c95646",
    "execution_start": 1647109091179,
    "execution_millis": 93,
    "deepnote_cell_type": "code",
    "deepnote_cell_height": 212.125
   },
   "source": "print('Categoria de Amazon ', df.query('Company == \"Amazon\"')['Category'].values)\n\nprint('Todas las categorias disponibles en la base', df['Category'].unique())",
   "outputs": [
    {
     "name": "stdout",
     "text": "Categoria de Amazon  ['Electronic/Mail Order']\nTodas las categorias disponibles en la base ['Supercenters' 'Grocery' 'Warehouse Club' 'Home Improvement'\n 'Drug Stores' 'Electronic/Mail Order' 'Warehouse Clubs' nan 'Electronics'\n 'Department Stores' 'Apparel' 'Dollar Stores']\n",
     "output_type": "stream"
    }
   ],
   "execution_count": null
  },
  {
   "cell_type": "code",
   "metadata": {
    "cell_id": "59cdef48-ca0e-4733-bfa5-55c5cb235d5c",
    "tags": [],
    "deepnote_to_be_reexecuted": false,
    "source_hash": "55b85b85",
    "execution_start": 1647112026831,
    "execution_millis": 0,
    "deepnote_cell_type": "code",
    "deepnote_cell_height": 99
   },
   "source": "# Reemplazando la categoria null de Aple\ndf.loc[df['Company'] == 'Apple incl. Online','Category']='Electronic/Mail Order'",
   "outputs": [],
   "execution_count": null
  },
  {
   "cell_type": "markdown",
   "source": "## I. Preguntas del negocio",
   "metadata": {
    "cell_id": "cc141631-e246-41c7-a56b-ad74255d674f",
    "tags": [],
    "is_collapsed": false,
    "deepnote_cell_type": "text-cell-h2",
    "deepnote_cell_height": 70
   }
  },
  {
   "cell_type": "markdown",
   "source": "### 1. ¿Cuál es el promedio de ventas sin contar a la compañía dominante?",
   "metadata": {
    "cell_id": "b919b92e-0df3-4f54-b093-c1db040bc4aa",
    "tags": [],
    "deepnote_cell_type": "markdown",
    "deepnote_cell_height": 94
   }
  },
  {
   "cell_type": "code",
   "metadata": {
    "cell_id": "cb25edc9-6c8e-4212-bff4-8d36ddf02413",
    "tags": [],
    "deepnote_to_be_reexecuted": false,
    "source_hash": "b213f422",
    "execution_start": 1647109169900,
    "execution_millis": 547,
    "deepnote_cell_type": "code",
    "deepnote_cell_height": 694,
    "deepnote_output_heights": [
     435
    ]
   },
   "source": "# setting los graficos\nsns.set(rc={'figure.figsize':(11,8)})\n\n# Grafico donde se muestra la empresa dominante\nbar = sns.barplot(\n    data = df,\n    y = 'Company',\n    x = 'Sales',\n    palette=\"Blues_r\"\n).set_title('Promedio de Ventas por Empresa')",
   "outputs": [
    {
     "data": {
      "text/plain": "<Figure size 792x576 with 1 Axes>",
      "image/png": "[encoded data removed]"
     },
     "metadata": {
      "image/png": {
       "width": 770,
       "height": 501
      }
     },
     "output_type": "display_data"
    }
   ],
   "execution_count": null
  },
  {
   "cell_type": "code",
   "metadata": {
    "cell_id": "d0684d2b-d018-42ad-9b48-b545aae09eec",
    "tags": [],
    "deepnote_to_be_reexecuted": false,
    "source_hash": "9bf5cf5f",
    "execution_start": 1647105528450,
    "execution_millis": 13,
    "deepnote_cell_type": "code",
    "deepnote_cell_height": 203.71875
   },
   "source": "# Detecto a la empresa dominandte como Walmart US\npromedio_general = df['Sales'].mean().round(2)\npromedio_sindominante = df.query('Company != \"Walmart US\"')['Sales'].mean().round(2)\nprint('Promedio del mercado', str(promedio_general))\nprint('Promedio del mercado SIN COMPANIA DOMINANTE', str(promedio_sindominante))",
   "outputs": [
    {
     "name": "stdout",
     "text": "Promedio del mercado 71063.08\nPromedio del mercado SIN COMPANIA DOMINANTE 46602.42\n",
     "output_type": "stream"
    }
   ],
   "execution_count": null
  },
  {
   "cell_type": "markdown",
   "source": "##### Detectamos la empresa dominante, segun el grafico, el mercado de retail es dominado por Walmart US\n##### El promedio del mercado retail es 71 063, pero **sin la porcion de mercado que maneja Walmart el promedio del mercado seria 46 602**.\n##### Casi la mitad de mercado de retail en ventas es aportado por Walmart",
   "metadata": {
    "cell_id": "d0a08258-de1e-4619-86d2-5bf6d009a611",
    "tags": [],
    "deepnote_cell_type": "markdown",
    "deepnote_cell_height": 190
   }
  },
  {
   "cell_type": "markdown",
   "source": "### 2. ¿Cuánto dinero en ventas generó la mayoría de las compañías?",
   "metadata": {
    "cell_id": "1814847a-365e-4bae-9fb9-6bed9b874b37",
    "tags": [],
    "deepnote_cell_type": "markdown",
    "deepnote_cell_height": 94
   }
  },
  {
   "cell_type": "code",
   "metadata": {
    "cell_id": "7c7057cc-813b-4f93-8826-caed6cc738f9",
    "tags": [],
    "deepnote_to_be_reexecuted": false,
    "source_hash": "e8d07af9",
    "execution_start": 1647105530897,
    "execution_millis": 833,
    "deepnote_cell_type": "code",
    "deepnote_cell_height": 759.1875,
    "deepnote_output_heights": [
     21.1875,
     502
    ]
   },
   "source": "# Histograma\nsns.histplot(\n    data = df,\n    x = 'Sales',\n    bins = 40,\n    kde = True # para la linea de densidad\n).set_title('Histograma de Ventas por Empresa')",
   "outputs": [
    {
     "output_type": "execute_result",
     "execution_count": 11,
     "data": {
      "text/plain": "Text(0.5, 1.0, 'Histograma de Ventas por Empresa')"
     },
     "metadata": {}
    },
    {
     "data": {
      "text/plain": "<Figure size 792x576 with 1 Axes>",
      "image/png": "[encoded data removed]"
     },
     "metadata": {
      "image/png": {
       "width": 668,
       "height": 501
      }
     },
     "output_type": "display_data"
    }
   ],
   "execution_count": null
  },
  {
   "cell_type": "code",
   "metadata": {
    "cell_id": "1fffff5f-3c7f-44a1-89da-9912eb7e72da",
    "tags": [],
    "deepnote_to_be_reexecuted": false,
    "source_hash": "86977eb4",
    "execution_start": 1647054776284,
    "execution_millis": 50,
    "deepnote_cell_type": "code",
    "deepnote_cell_height": 129.859375
   },
   "source": "total_ventas = df.query('Sales <= 100000')['Sales'].mean()\nprint ('La mayoria de las empresas genero ', str(total_ventas), ' en promedio')",
   "execution_count": null,
   "outputs": [
    {
     "name": "stdout",
     "text": "La mayoria de las empresas genero  43627.0  en promedio\n",
     "output_type": "stream"
    }
   ]
  },
  {
   "cell_type": "markdown",
   "source": "##### La mayoria de compañias genero ventas entre 0 y 100 000\n##### En promedio todas estas empresas generaron 43 627 en total",
   "metadata": {
    "cell_id": "62cbe2ca-0cd8-47ee-940d-cd2063cdf608",
    "tags": [],
    "deepnote_cell_type": "markdown",
    "deepnote_cell_height": 98
   }
  },
  {
   "cell_type": "markdown",
   "source": "### 3. ¿Cuántas tiendas tiene la mayoría de las compañías?",
   "metadata": {
    "cell_id": "9801295a-a27d-48af-ae87-c653cabd8f67",
    "tags": [],
    "deepnote_cell_type": "markdown",
    "deepnote_cell_height": 62
   }
  },
  {
   "cell_type": "code",
   "metadata": {
    "cell_id": "cfcc2261-f6a1-44d8-b8fa-184eec2a77ff",
    "tags": [],
    "deepnote_to_be_reexecuted": false,
    "source_hash": "91bbbfe1",
    "execution_start": 1647054270864,
    "execution_millis": 880,
    "deepnote_cell_type": "code",
    "deepnote_cell_height": 755.6875,
    "deepnote_output_heights": [
     21.1875,
     498.515625
    ]
   },
   "source": "# Histograma\nsns.histplot(\n    data = df,\n    x = 'Stores',\n    bins = 50,\n    kde = True # para la linea de densidad\n).set_title('Histograma de Nro de Tiendas por Empresa')",
   "execution_count": null,
   "outputs": [
    {
     "output_type": "execute_result",
     "execution_count": 10,
     "data": {
      "text/plain": "Text(0.5, 1.0, 'Histograma de Nro de Tiendas por Empresa')"
     },
     "metadata": {}
    },
    {
     "data": {
      "text/plain": "<Figure size 792x576 with 1 Axes>",
      "image/png": "[encoded data removed]"
     },
     "metadata": {
      "image/png": {
       "width": 672,
       "height": 501
      }
     },
     "output_type": "display_data"
    }
   ]
  },
  {
   "cell_type": "code",
   "metadata": {
    "cell_id": "b04be5e7-5a0e-45bb-b9f8-2d6b6eb5f18b",
    "tags": [],
    "deepnote_to_be_reexecuted": false,
    "source_hash": "173f05b1",
    "execution_start": 1647054875785,
    "execution_millis": 35,
    "deepnote_cell_type": "code",
    "deepnote_cell_height": 129.859375
   },
   "source": "total_tiendas = df.query('Stores <= 2000')['Stores'].mean().round(0)\nprint ('La mayoria de las empresas tiene ', str(total_tiendas), ' tiendas en promedio')",
   "execution_count": null,
   "outputs": [
    {
     "name": "stdout",
     "text": "La mayoria de las empresas tiene  1088.0  tiendas en promedio\n",
     "output_type": "stream"
    }
   ]
  },
  {
   "cell_type": "markdown",
   "source": "##### La mayoria de compañias tiene tiendas entre entre 0 y 2 000\n##### En promedio todas estas empresas tienen 1 088 tiendas",
   "metadata": {
    "cell_id": "132b3e77-ddbb-4fd3-a0f0-16c3450b13a2",
    "tags": [],
    "deepnote_cell_type": "markdown",
    "deepnote_cell_height": 98
   }
  },
  {
   "cell_type": "markdown",
   "source": "### 4. ¿La cantidad de tiendas está relacionada con la cantidad de ventas? Es decir, ¿si una empresa tiene más tiendas tendrá más dinero de ventas?",
   "metadata": {
    "cell_id": "c9b5de28-cd12-4088-9bc0-93df660401f3",
    "tags": [],
    "deepnote_cell_type": "markdown",
    "deepnote_cell_height": 126
   }
  },
  {
   "cell_type": "code",
   "metadata": {
    "cell_id": "72dda234-6fca-477e-a088-99682e9766a2",
    "tags": [],
    "deepnote_to_be_reexecuted": false,
    "source_hash": "efef125f",
    "execution_start": 1647105738775,
    "execution_millis": 1827,
    "deepnote_cell_type": "code",
    "deepnote_cell_height": 679.1875,
    "deepnote_output_heights": [
     21.1875,
     422
    ]
   },
   "source": "# Vista de todas las empresas\nsns.jointplot(\n    data = df,\n    x = 'Stores',\n    y = 'Sales',\n    kind = 'reg'\n)",
   "outputs": [
    {
     "output_type": "execute_result",
     "execution_count": 15,
     "data": {
      "text/plain": "<seaborn.axisgrid.JointGrid at 0x7f60efd32510>"
     },
     "metadata": {}
    },
    {
     "data": {
      "text/plain": "<Figure size 432x432 with 3 Axes>",
      "image/png": "[encoded data removed]"
     },
     "metadata": {
      "image/png": {
       "width": 445,
       "height": 420
      }
     },
     "output_type": "display_data"
    }
   ],
   "execution_count": null
  },
  {
   "cell_type": "markdown",
   "source": "#### En esta primera vista no se ve una relacion entre tiendas y ventas\n#### No se tiene una buena visbilidad de la mayoria de tiendas pues existe una tienda con ventas extremadamente altas (Wallmart) que cambia la amplitud del grafico\n#### Haremos otro grafico excluyendo a Wallmart para ver si existe un relacion en las otras tiendas",
   "metadata": {
    "cell_id": "19247526-59fc-42ac-963f-46e1a7986831",
    "tags": [],
    "deepnote_cell_type": "markdown",
    "deepnote_cell_height": 214
   }
  },
  {
   "cell_type": "code",
   "metadata": {
    "cell_id": "a74041c5-7642-4f59-ae15-a3604f08d8bb",
    "tags": [],
    "deepnote_to_be_reexecuted": false,
    "source_hash": "9fd52a5c",
    "execution_start": 1647105791643,
    "execution_millis": 1342,
    "deepnote_cell_type": "code",
    "deepnote_cell_height": 679.1875,
    "deepnote_output_heights": [
     21.1875,
     422
    ]
   },
   "source": "# Vista de las empresas excluyendo Wallamart\nsns.jointplot(\n    data = df.query('Sales<=200000'),\n    x = 'Stores',\n    y = 'Sales',\n    kind = 'reg'\n)",
   "outputs": [
    {
     "output_type": "execute_result",
     "execution_count": 16,
     "data": {
      "text/plain": "<seaborn.axisgrid.JointGrid at 0x7f60efbdaa50>"
     },
     "metadata": {}
    },
    {
     "data": {
      "text/plain": "<Figure size 432x432 with 3 Axes>",
      "image/png": "[encoded data removed]"
     },
     "metadata": {
      "image/png": {
       "width": 445,
       "height": 420
      }
     },
     "output_type": "display_data"
    }
   ],
   "execution_count": null
  },
  {
   "cell_type": "markdown",
   "source": "#### Con este grafico tenemos una mejor vista de las empresas; sin embargo, no se encuentra una relacion a mas tiendas mas ventas",
   "metadata": {
    "cell_id": "4480adba-5213-4632-9949-ed936d5f608a",
    "tags": [],
    "deepnote_cell_type": "markdown",
    "deepnote_cell_height": 78
   }
  },
  {
   "cell_type": "markdown",
   "source": "### 5. ¿Cuál es el rango que existe entre las ventas?",
   "metadata": {
    "cell_id": "d296130b-b739-4424-8c5d-8dc8b6fc8ee5",
    "tags": [],
    "deepnote_cell_type": "markdown",
    "deepnote_cell_height": 62
   }
  },
  {
   "cell_type": "code",
   "metadata": {
    "cell_id": "277da6f7-0300-4156-91e5-9765eb1f3752",
    "tags": [],
    "deepnote_to_be_reexecuted": false,
    "source_hash": "c657f793",
    "execution_start": 1647106294271,
    "execution_millis": 15,
    "deepnote_cell_type": "code",
    "deepnote_cell_height": 120
   },
   "source": "max_sales = df['Sales'].max()\nmin_sales = df['Sales'].min()\nrango = [min_sales, max_sales]\nprint('El rango de ventas esta entre ', rango)",
   "outputs": [
    {
     "name": "stdout",
     "text": "El rango de ventas esta entre  [16592, 658119]\n",
     "output_type": "stream"
    }
   ],
   "execution_count": null
  },
  {
   "cell_type": "markdown",
   "source": "### 6. ¿Cuáles son las 5 empresas que más tiendas físicas tienen? ¿Cuáles de ellas están dentro de las 5 empresas que más ventas tuvieron?",
   "metadata": {
    "cell_id": "6c36ddc3-51ef-4017-a6f9-06cbb8b970e4",
    "tags": [],
    "deepnote_cell_type": "markdown",
    "deepnote_cell_height": 126
   }
  },
  {
   "cell_type": "code",
   "source": "top_tiendas = df.sort_values('Stores', ascending = False)[['Company', 'Stores']].head(5)\n\ntop_ventas = df.sort_values('Sales', ascending = False)[['Company', 'Sales']].head(5)",
   "metadata": {
    "cell_id": "9474a138-9e55-4ee0-8a2f-f945dc7a497b",
    "tags": [],
    "deepnote_to_be_reexecuted": false,
    "source_hash": "517c18ff",
    "execution_start": 1647110328085,
    "execution_millis": 1,
    "deepnote_cell_type": "code",
    "deepnote_cell_height": 102
   },
   "outputs": [],
   "execution_count": null
  },
  {
   "cell_type": "markdown",
   "source": "Voy a unir la lista de las empresas con mas tiendas con las empresas con mas ventas, tomando de base a *top_tiendas* y buscando si es que esta en la lista de *top_ventas*",
   "metadata": {
    "cell_id": "e41fe7d8-839e-435b-9c20-bbb935098ee4",
    "tags": [],
    "deepnote_cell_type": "markdown",
    "deepnote_cell_height": 75
   }
  },
  {
   "cell_type": "code",
   "source": "# left join top_tiendas y top_ventas\npd.merge(\n    top_tiendas,\n    top_ventas,\n    how = 'left',\n    on = 'Company'\n).dropna()['Company']",
   "metadata": {
    "cell_id": "7a9f7240-5506-400d-b774-0d394e698e9a",
    "tags": [],
    "deepnote_to_be_reexecuted": false,
    "source_hash": "915cfbb4",
    "execution_start": 1647110568397,
    "execution_millis": 17,
    "deepnote_cell_type": "code",
    "deepnote_cell_height": 264.59375,
    "deepnote_output_heights": [
     59.59375
    ]
   },
   "outputs": [
    {
     "output_type": "execute_result",
     "execution_count": 20,
     "data": {
      "text/plain": "3    Walgreen Boots\n4        Walmart US\nName: Company, dtype: object"
     },
     "metadata": {}
    }
   ],
   "execution_count": null
  },
  {
   "cell_type": "markdown",
   "source": "#### De las 5 empresas con mas tiendas, solo 2 se encuentran de las 5 empresas con mas ventas\n#### Walgreen Boots y Walmart US son las empresas que cumplen las dos condiciones",
   "metadata": {
    "cell_id": "ef3903a9-93cb-4dc0-a5dc-4eaaeef821b8",
    "tags": [],
    "deepnote_cell_type": "markdown",
    "deepnote_cell_height": 146
   }
  },
  {
   "cell_type": "markdown",
   "source": "## II. Preguntas opcionales",
   "metadata": {
    "cell_id": "7d1d5db9-ad1d-4081-968b-bea1357e236a",
    "tags": [],
    "deepnote_cell_type": "markdown",
    "deepnote_cell_height": 70
   }
  },
  {
   "cell_type": "markdown",
   "source": "### 7. ¿Qué categoría de compañía generó más ventas?",
   "metadata": {
    "cell_id": "27e5ddcb-8674-4809-844e-8c3442430be1",
    "tags": [],
    "deepnote_cell_type": "markdown",
    "deepnote_cell_height": 62
   }
  },
  {
   "cell_type": "code",
   "metadata": {
    "cell_id": "fcc0ff72-f954-4023-b187-f43c7ecc77ce",
    "tags": [],
    "deepnote_to_be_reexecuted": false,
    "source_hash": "b3f72922",
    "execution_start": 1647111623502,
    "execution_millis": 43,
    "deepnote_cell_type": "code",
    "deepnote_cell_height": 263.375,
    "deepnote_output_heights": [
     40.390625
    ]
   },
   "source": "df.groupby(\n    by = 'Category',\n    as_index = False\n).agg(\n    sales_t = ('Sales','sum')\n).sort_values(\n    'sales_t',\n    ascending = False)['Category'].head(1)",
   "outputs": [
    {
     "output_type": "execute_result",
     "execution_count": 27,
     "data": {
      "text/plain": "8    Supercenters\nName: Category, dtype: object"
     },
     "metadata": {}
    }
   ],
   "execution_count": null
  },
  {
   "cell_type": "markdown",
   "source": "#### La categoria con mas ventas generadas en total es **Supercenters**",
   "metadata": {
    "cell_id": "140f6f54-e19a-49c4-98fa-96de737b4545",
    "tags": [],
    "deepnote_cell_type": "markdown",
    "deepnote_cell_height": 54
   }
  },
  {
   "cell_type": "markdown",
   "source": "### 8. ¿Cuál es la compañía que en relación con su cantidad de tiendas físicas genera más ventas?",
   "metadata": {
    "cell_id": "33668883-9f01-485c-bdf9-822cd13ad952",
    "tags": [],
    "deepnote_cell_type": "markdown",
    "deepnote_cell_height": 94
   }
  },
  {
   "cell_type": "markdown",
   "source": "Tengo que hallar un ratio de relacion de las ventas entre el nro de tiendas para poder comparar (ventas por tiendas)",
   "metadata": {
    "cell_id": "1bbdafa3-6de9-4c05-801c-5bee17b96cf3",
    "tags": [],
    "deepnote_cell_type": "markdown",
    "deepnote_cell_height": 75
   }
  },
  {
   "cell_type": "code",
   "metadata": {
    "cell_id": "903008ff-c22d-431e-8130-a954a94b16e8",
    "tags": [],
    "deepnote_to_be_reexecuted": false,
    "source_hash": "56ee5a16",
    "execution_start": 1647112337626,
    "execution_millis": 3,
    "deepnote_cell_type": "code",
    "deepnote_cell_height": 66
   },
   "source": "df['venta_tienda'] = (df['Sales'] / df['Stores']).round(1)",
   "outputs": [],
   "execution_count": null
  },
  {
   "cell_type": "code",
   "source": "sns.barplot(\n    data = df,\n    x = 'venta_tienda',\n    y = 'Company',\n    order = df.sort_values('venta_tienda', ascending = False)['Company'],\n    palette = 'Blues_r'\n).set_title('Ventas por Tienda segun Empresa')",
   "metadata": {
    "cell_id": "24391b6e-276b-44fd-be8a-e0c7dc11929a",
    "tags": [],
    "deepnote_to_be_reexecuted": false,
    "source_hash": "c455d224",
    "execution_start": 1647113055862,
    "execution_millis": 513,
    "deepnote_cell_type": "code",
    "deepnote_cell_height": 703.46875,
    "deepnote_output_heights": [
     21.1875,
     446.28125
    ]
   },
   "outputs": [
    {
     "output_type": "execute_result",
     "execution_count": 54,
     "data": {
      "text/plain": "Text(0.5, 1.0, 'Ventas por Tienda segun Empresa')"
     },
     "metadata": {}
    },
    {
     "data": {
      "text/plain": "<Figure size 792x576 with 1 Axes>",
      "image/png": "[encoded data removed]"
     },
     "metadata": {
      "image/png": {
       "width": 751,
       "height": 501
      }
     },
     "output_type": "display_data"
    }
   ],
   "execution_count": null
  },
  {
   "cell_type": "markdown",
   "source": "#### La empresa con mayor venta por tienda es Costco",
   "metadata": {
    "cell_id": "d3162490-4400-4564-856e-cc1e173b19bd",
    "tags": [],
    "deepnote_cell_type": "markdown",
    "deepnote_cell_height": 54
   }
  },
  {
   "cell_type": "markdown",
   "source": "### 9. ¿Cuáles compañías venden de forma exclusivamente online? ¿Sus ventas destacan sobre las que también tienen tiendas físicas?",
   "metadata": {
    "cell_id": "e9a00ffe-de8a-41f0-98e7-67b905d0d14f",
    "tags": [],
    "deepnote_cell_type": "markdown",
    "deepnote_cell_height": 126
   }
  },
  {
   "cell_type": "markdown",
   "source": "* Asumiendo que las ventas online se dan en la categoria **Electronic/Mail Order**\n* No sabria que empresas tienen tienda y venta online, o cuales solo exclusivamente online",
   "metadata": {
    "cell_id": "3c92ba65-9261-4be0-afa0-1eebb1154aac",
    "tags": [],
    "deepnote_cell_type": "markdown",
    "deepnote_cell_height": 95
   }
  },
  {
   "cell_type": "markdown",
   "source": "## III. Tus propias preguntas",
   "metadata": {
    "cell_id": "58c80612-3fb2-4c71-9aab-813b121430a0",
    "tags": [],
    "deepnote_cell_type": "markdown",
    "deepnote_cell_height": 70
   }
  },
  {
   "cell_type": "markdown",
   "source": "### 10. Existe una correlacion entre ventas y tiendas por categoria",
   "metadata": {
    "cell_id": "fa60966b-7d95-43f0-9a1e-201f1373f1be",
    "tags": [],
    "deepnote_cell_type": "markdown",
    "deepnote_cell_height": 94
   }
  },
  {
   "cell_type": "markdown",
   "source": "<a style='text-decoration:none;line-height:16px;display:flex;color:#5B5B62;padding:10px;justify-content:end;' href='https://deepnote.com?utm_source=created-in-deepnote-cell&projectId=b12a3667-3c78-4852-af87-39ed4472ff43' target=\"_blank\">\n<img alt='Created in deepnote.com' style='display:inline;max-height:16px;margin:0px;margin-right:7.5px;' src='data:image/svg+xml;base64,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' > </img>\nCreated in <span style='font-weight:600;margin-left:4px;'>Deepnote</span></a>",
   "metadata": {
    "tags": [],
    "created_in_deepnote_cell": true,
    "deepnote_cell_type": "markdown"
   }
  }
 ],
 "nbformat": 4,
 "nbformat_minor": 2,
 "metadata": {
  "orig_nbformat": 2,
  "deepnote": {
   "is_reactive": false
  },
  "deepnote_notebook_id": "85b76ea9-ace4-4c85-8b21-59120be91703",
  "deepnote_execution_queue": []
 }
}